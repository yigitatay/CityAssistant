{
 "cells": [
  {
   "cell_type": "code",
   "execution_count": 42,
   "metadata": {},
   "outputs": [],
   "source": [
    "import os\n",
    "import openai\n",
    "import numpy as np\n",
    "import pandas as pd\n",
    "import faiss"
   ]
  },
  {
   "cell_type": "code",
   "execution_count": 43,
   "metadata": {},
   "outputs": [],
   "source": [
    "openai.api_key = os.getenv(\"OPENAI_API_KEY\")\n",
    "questions_df = pd.read_csv('./data/resident_request_questions.csv')\n",
    "context_df = pd.read_csv('./data/dc_service_requests.csv')"
   ]
  },
  {
   "cell_type": "code",
   "execution_count": 51,
   "metadata": {},
   "outputs": [],
   "source": [
    "def get_embedding(text, model=\"text-embedding-ada-002\"):\n",
    "    response = openai.embeddings.create(\n",
    "        input=[text],\n",
    "        model=model\n",
    "    )\n",
    "    return np.array(response.data[0].embedding)"
   ]
  },
  {
   "cell_type": "code",
   "execution_count": null,
   "metadata": {},
   "outputs": [
    {
     "data": {
      "text/html": [
       "<div>\n",
       "<style scoped>\n",
       "    .dataframe tbody tr th:only-of-type {\n",
       "        vertical-align: middle;\n",
       "    }\n",
       "\n",
       "    .dataframe tbody tr th {\n",
       "        vertical-align: top;\n",
       "    }\n",
       "\n",
       "    .dataframe thead th {\n",
       "        text-align: right;\n",
       "    }\n",
       "</style>\n",
       "<table border=\"1\" class=\"dataframe\">\n",
       "  <thead>\n",
       "    <tr style=\"text-align: right;\">\n",
       "      <th></th>\n",
       "      <th>request_type</th>\n",
       "      <th>department</th>\n",
       "      <th>resolution_estimate</th>\n",
       "      <th>Description</th>\n",
       "    </tr>\n",
       "  </thead>\n",
       "  <tbody>\n",
       "    <tr>\n",
       "      <th>0</th>\n",
       "      <td>Abandoned Bicycle</td>\n",
       "      <td>DPW, DPW</td>\n",
       "      <td>20 bd</td>\n",
       "      <td>This service request is to be used for bicycle...</td>\n",
       "    </tr>\n",
       "    <tr>\n",
       "      <th>1</th>\n",
       "      <td>Abandoned Vehicle - On Private Property</td>\n",
       "      <td>DPW, DPW</td>\n",
       "      <td>45 bd</td>\n",
       "      <td>Please use this service request to request the...</td>\n",
       "    </tr>\n",
       "    <tr>\n",
       "      <th>2</th>\n",
       "      <td>Abandoned Vehicle - On Public Property</td>\n",
       "      <td>DPW, DPW</td>\n",
       "      <td>13 bd</td>\n",
       "      <td>Please use this service request to request the...</td>\n",
       "    </tr>\n",
       "    <tr>\n",
       "      <th>3</th>\n",
       "      <td>Alley Repair Investigation</td>\n",
       "      <td>DDOT</td>\n",
       "      <td>270 bd</td>\n",
       "      <td>Please use this service request type to invest...</td>\n",
       "    </tr>\n",
       "    <tr>\n",
       "      <th>4</th>\n",
       "      <td>Bee Treatment and Inspection (DOH)</td>\n",
       "      <td>DOH</td>\n",
       "      <td>14 bd</td>\n",
       "      <td>Bee Treatment - This service request is limite...</td>\n",
       "    </tr>\n",
       "    <tr>\n",
       "      <th>...</th>\n",
       "      <td>...</td>\n",
       "      <td>...</td>\n",
       "      <td>...</td>\n",
       "      <td>...</td>\n",
       "    </tr>\n",
       "    <tr>\n",
       "      <th>82</th>\n",
       "      <td>Tree Inspection</td>\n",
       "      <td>DDOT</td>\n",
       "      <td>5 bd</td>\n",
       "      <td>Use this request type to report an urgent tree...</td>\n",
       "    </tr>\n",
       "    <tr>\n",
       "      <th>83</th>\n",
       "      <td>Tree Planting</td>\n",
       "      <td>DDOT</td>\n",
       "      <td>500 bd</td>\n",
       "      <td>Urban Forestry Administration (UFA) plants nea...</td>\n",
       "    </tr>\n",
       "    <tr>\n",
       "      <th>84</th>\n",
       "      <td>Tree Pruning</td>\n",
       "      <td>DDOT</td>\n",
       "      <td>180 bd</td>\n",
       "      <td>Please use this service type to request a publ...</td>\n",
       "    </tr>\n",
       "    <tr>\n",
       "      <th>85</th>\n",
       "      <td>Tree Removal</td>\n",
       "      <td>DDOT</td>\n",
       "      <td>180 bd</td>\n",
       "      <td>Please use this service type to request the re...</td>\n",
       "    </tr>\n",
       "    <tr>\n",
       "      <th>86</th>\n",
       "      <td>Vacant Lot - Public Property Only</td>\n",
       "      <td>DPW</td>\n",
       "      <td>50 bd</td>\n",
       "      <td>Please use this service request type to reques...</td>\n",
       "    </tr>\n",
       "  </tbody>\n",
       "</table>\n",
       "<p>87 rows × 4 columns</p>\n",
       "</div>"
      ],
      "text/plain": [
       "                               request_type department resolution_estimate  \\\n",
       "0                         Abandoned Bicycle   DPW, DPW               20 bd   \n",
       "1   Abandoned Vehicle - On Private Property   DPW, DPW               45 bd   \n",
       "2    Abandoned Vehicle - On Public Property   DPW, DPW               13 bd   \n",
       "3                Alley Repair Investigation       DDOT              270 bd   \n",
       "4        Bee Treatment and Inspection (DOH)        DOH               14 bd   \n",
       "..                                      ...        ...                 ...   \n",
       "82                          Tree Inspection       DDOT                5 bd   \n",
       "83                            Tree Planting       DDOT              500 bd   \n",
       "84                             Tree Pruning       DDOT              180 bd   \n",
       "85                             Tree Removal       DDOT              180 bd   \n",
       "86        Vacant Lot - Public Property Only        DPW               50 bd   \n",
       "\n",
       "                                          Description  \n",
       "0   This service request is to be used for bicycle...  \n",
       "1   Please use this service request to request the...  \n",
       "2   Please use this service request to request the...  \n",
       "3   Please use this service request type to invest...  \n",
       "4   Bee Treatment - This service request is limite...  \n",
       "..                                                ...  \n",
       "82  Use this request type to report an urgent tree...  \n",
       "83  Urban Forestry Administration (UFA) plants nea...  \n",
       "84  Please use this service type to request a publ...  \n",
       "85  Please use this service type to request the re...  \n",
       "86  Please use this service request type to reques...  \n",
       "\n",
       "[87 rows x 4 columns]"
      ]
     },
     "metadata": {},
     "output_type": "display_data"
    }
   ],
   "source": [
    "display(context_df)"
   ]
  },
  {
   "cell_type": "code",
   "execution_count": 55,
   "metadata": {},
   "outputs": [],
   "source": [
    "def res_estimate_helper(res_estimate):\n",
    "    resolution_estimate = res_estimate.split(' ')[0]\n",
    "    bd_or_cd = res_estimate.split(' ')[1]\n",
    "    resolution_estimate += ' business days' if bd_or_cd == 'bd' else ' calendar days'\n",
    "    return resolution_estimate"
   ]
  },
  {
   "cell_type": "code",
   "execution_count": null,
   "metadata": {},
   "outputs": [
    {
     "name": "stdout",
     "output_type": "stream",
     "text": [
      "Request Type: Abandoned Bicycle\n",
      "Department: DPW, DPW\n",
      "Resolution Estimate: 20 business days\n",
      "Description: This service request is to be used for bicycles that are left on public space and which are abandoned.\n"
     ]
    }
   ],
   "source": [
    "all_embeddings = []\n",
    "\n",
    "for idx, row in context_df.iterrows():\n",
    "    combined_text = (\n",
    "        f\"Request Type: {row['request_type']}\\n\"\n",
    "        f\"Department: {row['department']}\\n\"\n",
    "        f\"Resolution Estimate: {res_estimate_helper(row['resolution_estimate'])}\\n\"\n",
    "        f\"Description: {row['Description']}\"\n",
    "    )\n",
    "    \n",
    "    embed_vec = get_embedding(combined_text)\n",
    "    all_embeddings.append(embed_vec)\n",
    "\n",
    "all_embeddings = np.array(all_embeddings)"
   ]
  },
  {
   "cell_type": "code",
   "execution_count": 53,
   "metadata": {},
   "outputs": [],
   "source": [
    "all_embeddings = all_embeddings.astype(np.float32)\n",
    "embedding_dim = all_embeddings.shape[1]\n",
    "\n",
    "faiss_index = faiss.IndexFlatL2(embedding_dim)\n",
    "faiss_index.add(all_embeddings)\n",
    "faiss.write_index(faiss_index, \"dc_requests.faiss\")"
   ]
  },
  {
   "cell_type": "code",
   "execution_count": 54,
   "metadata": {},
   "outputs": [],
   "source": [
    "## To simply load pre-calculated, run this:\n",
    "faiss_index = faiss.read_index(\"dc_requests.faiss\")"
   ]
  },
  {
   "cell_type": "code",
   "execution_count": 57,
   "metadata": {},
   "outputs": [],
   "source": [
    "def search_dc_requests(query: str, top_k: int = 3):\n",
    "    query_vec = get_embedding(query).astype(np.float32).reshape(1, -1)\n",
    "    # Search FAISS index\n",
    "    distances, indices = faiss_index.search(query_vec, top_k)\n",
    "\n",
    "    results = []\n",
    "    for rank, idx in enumerate(indices[0]):\n",
    "        row_data = context_df.iloc[idx]\n",
    "        dist = distances[0][rank]\n",
    "        results.append({\n",
    "            \"request_type\": row_data[\"request_type\"],\n",
    "            \"department\": row_data[\"department\"],\n",
    "            \"resolution_estimate\": res_estimate_helper(row_data[\"resolution_estimate\"]),\n",
    "            \"description\": row_data[\"Description\"],\n",
    "            \"distance\": float(dist),\n",
    "        })\n",
    "    return results"
   ]
  },
  {
   "cell_type": "code",
   "execution_count": 58,
   "metadata": {},
   "outputs": [
    {
     "name": "stdout",
     "output_type": "stream",
     "text": [
      "[{'request_type': 'Pothole', 'department': 'DDOT', 'resolution_estimate': '3 business days', 'description': 'Please use this request type for Pothole investigation. Pothole repairs normally take approximately 3 business days (72 hours), weather permitting, for completion.\\n\\n', 'distance': 0.23399491608142853}, {'request_type': 'Roadway Repair', 'department': 'DDOT', 'resolution_estimate': '270 business days', 'description': 'Please use this service request type to investigate street surface issues. Please provide the specific location (i.e. address, intersection) and describe the specific repair problem (i.e. uneven pavement, numerous potholes). Also if possible, provide any information regarding the street surfaces paving material (i.e. concrete, asphalt, or brick).\\n\\n', 'distance': 0.3189466595649719}, {'request_type': 'Alley Repair Investigation', 'department': 'DDOT', 'resolution_estimate': '270 business days', 'description': 'Please use this service request type to investigate alley surfaces issues. Please identify the specific alley location, provide a description of problem (i.e. pothole, re-paving) and describe the type of existing alley surface (i.e. dirt, concrete, brick). It is also helpful to provide any additional information specific to the proposed repair.', 'distance': 0.32842686772346497}]\n"
     ]
    }
   ],
   "source": [
    "query = \"How long does it take to fix a pothole?\"\n",
    "dc_matches = search_dc_requests(query, top_k=3)\n",
    "print(dc_matches)"
   ]
  },
  {
   "cell_type": "code",
   "execution_count": 111,
   "metadata": {},
   "outputs": [],
   "source": [
    "def generate_response(user_query):\n",
    "    # 1. Retrieve relevant requests from context\n",
    "    dc_results = search_dc_requests(user_query, top_k=5)\n",
    "    \n",
    "    # 2. Create context string\n",
    "    context_lines = []\n",
    "    for res in dc_results:\n",
    "        context_lines.append(\n",
    "            f\"Request Type: {res['request_type']}\\n\"\n",
    "            f\"Department: {res['department']}\\n\"\n",
    "            f\"Resolution Estimate: {res_estimate_helper(res['resolution_estimate'])}\\n\"\n",
    "            f\"Description: {res['description']}\\n\"\n",
    "            f\"Distance: {res['distance']}\\n\"\n",
    "            \"----\"\n",
    "        )\n",
    "    context_str = \"\\n\".join(context_lines)\n",
    "    \n",
    "    # 3. Build the final prompt\n",
    "    SYSTEM_PROMPT = \"You are an AI system that assists with Washington D.C. resident inquiries...\"\n",
    "    FINAL_PROMPT = (\n",
    "        f\"{SYSTEM_PROMPT}\\n\\n\"\n",
    "        f\"Context from Washington D.C. service requests:\\n{context_str}\\n\\n\"\n",
    "        f\"User's question: {user_query}\\n\"\n",
    "        f\"Provide clear, concise, and legally compliant responses.\" \n",
    "        f\"If the answer isn't in the context, state that you're not sure.\"\n",
    "        f\"If you are uncertain about the answer, politely say so and prompt for clarification.\"\n",
    "        f\"\"\n",
    "    )\n",
    "    \n",
    "    # 4. Call API\n",
    "    response = openai.chat.completions.create(\n",
    "        model=\"gpt-3.5-turbo\",\n",
    "        messages=[\n",
    "            {\"role\": \"system\", \"content\": SYSTEM_PROMPT},\n",
    "            {\"role\": \"user\", \"content\": FINAL_PROMPT},\n",
    "        ],\n",
    "        temperature=0.3\n",
    "    )\n",
    "    answer = response.choices[0].message.content\n",
    "    \n",
    "    return answer"
   ]
  },
  {
   "cell_type": "code",
   "execution_count": null,
   "metadata": {},
   "outputs": [],
   "source": [
    "def evaluate_response_with_rules(query, ai_response, context_df):\n",
    "    \"\"\"\n",
    "    Checks if the AI response obeys known rules from df_dc.\n",
    "    Returns a dictionary with flags or suggested corrections.\n",
    "    \"\"\"\n",
    "    evaluation_result = {\n",
    "        \"potential_request_types\": None,\n",
    "        \"has_rule_conflict\": False,\n",
    "        \"message\": \"\",\n",
    "        \"suggested_fix\": None\n",
    "    }\n",
    "    \n",
    "    search_matches = search_dc_requests(query, top_k=3)\n",
    "    potential_request_types = [match['request_type'] for match in search_matches]\n",
    "    \n",
    "    evaluation_result[\"potential_request_types\"] = potential_request_types\n",
    "    rows = []\n",
    "    known_resolution_estimates = []\n",
    "    for request_type in potential_request_types:\n",
    "        row = context_df[context_df[\"request_type\"].str.lower() == request_type.lower()].iloc[0]\n",
    "        rows.append(row)\n",
    "        known_resolution_estimates.append(res_estimate_helper(row[\"resolution_estimate\"]))\n",
    "        \n",
    "    # 3. Check if the known resolution is mentioned in the AI answer\n",
    "    error_idx = 0\n",
    "    for i, known_resolution_est in enumerate(known_resolution_estimates):\n",
    "        if known_resolution_est.split(' ')[0] not in ai_response:\n",
    "            evaluation_result[\"has_rule_conflict\"] = True\n",
    "        elif known_resolution_est.split(' ')[1] == 'business' and 'calendar' in ai_response.lower():\n",
    "            evaluation_result[\"has_rule_conflict\"] = True\n",
    "            error_idx = i\n",
    "        elif known_resolution_est.split(' ')[1] == 'calendar' and 'business' in ai_response.lower():\n",
    "            evaluation_result[\"has_rule_conflict\"] = True\n",
    "            error_idx = i\n",
    "        else:\n",
    "            evaluation_result[\"has_rule_conflict\"] = False\n",
    "            evaluation_result[\"message\"] = (\n",
    "                f\"AI response includes the known resolution estimate ({known_resolution_est}).\"\n",
    "            )\n",
    "            break\n",
    "    if evaluation_result['has_rule_conflict']:\n",
    "        evaluation_result[\"message\"] = (\n",
    "            f\"AI response does not reference the known resolution estimate \"\n",
    "            f\"({known_resolution_estimates[error_idx]}).\"\n",
    "        )       \n",
    "        # 4. Suggest a fix. TODO: Implement re-prompting\n",
    "        corrected_answer = f\"Fix: According to city data, requests related to {potential_request_types[0]} typically take {known_resolution_estimates[error_idx]}.\"\n",
    "        evaluation_result[\"suggested_fix\"] = corrected_answer\n",
    "\n",
    "    return evaluation_result"
   ]
  },
  {
   "cell_type": "code",
   "execution_count": 97,
   "metadata": {},
   "outputs": [
    {
     "name": "stdout",
     "output_type": "stream",
     "text": [
      "Evaluation Result:\n",
      "{'potential_request_types': ['Pothole', 'Roadway Repair', 'Alley Repair Investigation'], 'has_rule_conflict': True, 'message': 'AI response does not reference the known resolution estimate (3 business days).', 'suggested_fix': 'Fix: According to city data, Pothole typically takes 3 business days.'}\n",
      "\n",
      "Flagged Response: The AI did not mention the correct resolution time.\n",
      "Suggested Fix:\n",
      "Fix: According to city data, Pothole typically takes 3 business days.\n"
     ]
    }
   ],
   "source": [
    "user_query = \"How long does it take to fix a pothole?\"\n",
    "ai_response = \"It usually gets handled within a week by the city.\"\n",
    "\n",
    "eval_result = evaluate_response_with_rules(user_query, ai_response, context_df)\n",
    "\n",
    "print(\"Evaluation Result:\")\n",
    "print(eval_result)\n",
    "\n",
    "if eval_result[\"has_rule_conflict\"]:\n",
    "    print(\"\\nFlagged Response: The AI did not mention the correct resolution time.\")\n",
    "    print(\"Suggested Fix:\")\n",
    "    print(eval_result[\"suggested_fix\"])"
   ]
  },
  {
   "cell_type": "code",
   "execution_count": 118,
   "metadata": {},
   "outputs": [
    {
     "name": "stdout",
     "output_type": "stream",
     "text": [
      "User Query: I started seeing lots of dead rats on my street. What can I do about this?\n",
      "AI Answer: If you are seeing lots of dead rats on your street, you can request a Dead Animal Collection through the Department of Public Works (DPW). This service is for the removal of dead animals on public property. The resolution estimate for this request is 2 calendar days. You can submit your request through the appropriate channels to have the dead rats removed promptly.\n",
      "Evaluation: {'potential_request_types': ['Rodent Inspection and Treatment (Rat)', 'Dead Animal Collection', 'Rat Replacement Containers'], 'has_rule_conflict': True, 'message': 'AI response does not reference the known resolution estimate (2 business days).', 'suggested_fix': 'Fix: According to city data, requests related to Rodent Inspection and Treatment (Rat) typically take 2 business days.'}\n",
      "\n",
      "Flagged Response: The AI did not give the correct resolution time.\n",
      "Suggested Fix:\n",
      "Fix: According to city data, requests related to Rodent Inspection and Treatment (Rat) typically take 2 business days.\n"
     ]
    }
   ],
   "source": [
    "# user_query = \"Do I need a permit to build a fence around my yard?\"\n",
    "user_query = \"I started seeing lots of dead rats on my street. What can I do about this?\"\n",
    "# user_query = \"There is always trash left in front of my building. What can I do about this?\"\n",
    "\n",
    "ai_answer = generate_response(user_query)\n",
    "eval_result = evaluate_response_with_rules(user_query, ai_answer, context_df)\n",
    "\n",
    "print(\"User Query:\", user_query)\n",
    "print(\"AI Answer:\", ai_answer)\n",
    "print(\"Evaluation:\", eval_result)\n",
    "\n",
    "if eval_result[\"has_rule_conflict\"]:\n",
    "    print(\"\\nFlagged Response: The AI did not give the correct resolution time.\")\n",
    "    print(\"Suggested Fix:\")\n",
    "    print(eval_result[\"suggested_fix\"])"
   ]
  },
  {
   "cell_type": "code",
   "execution_count": null,
   "metadata": {},
   "outputs": [],
   "source": []
  }
 ],
 "metadata": {
  "language_info": {
   "name": "python"
  }
 },
 "nbformat": 4,
 "nbformat_minor": 2
}
